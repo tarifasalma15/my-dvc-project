{
 "cells": [
  {
   "cell_type": "markdown",
   "id": "4f2b10b0",
   "metadata": {},
   "source": [
    "# MLflow Example: Tracking Two Model Training Runs"
   ]
  },
  {
   "cell_type": "code",
   "execution_count": 74,
   "id": "7b28bc2e",
   "metadata": {},
   "outputs": [],
   "source": [
    "# === Model Training and Experimentation ===\n",
    "\n",
    "# Import necessary libraries\n",
    "from sklearn.ensemble import RandomForestClassifier\n",
    "from sklearn.model_selection import train_test_split\n",
    "from sklearn.metrics import accuracy_score\n",
    "from sklearn.datasets import load_digits\n"
   ]
  },
  {
   "cell_type": "code",
   "execution_count": 75,
   "id": "c47ed228",
   "metadata": {},
   "outputs": [],
   "source": [
    "\n",
    "# Load dataset\n",
    "data = load_digits()\n",
    "X_train, X_test, y_train, y_test = train_test_split(data.data, data.target, test_size=0.2, random_state=42)\n",
    "\n",
    "# Define a function to train a model and return its accuracy\n",
    "def train_model(n_estimators, max_depth):\n",
    "    # Train a RandomForestClassifier\n",
    "    model = RandomForestClassifier(n_estimators=n_estimators, max_depth=max_depth, random_state=42)\n",
    "    model.fit(X_train, y_train)\n",
    "\n",
    "    # Make predictions\n",
    "    predictions = model.predict(X_test)\n",
    "    accuracy = accuracy_score(y_test, predictions)\n",
    "\n",
    "    print(f\"Model with n_estimators={n_estimators}, max_depth={max_depth} achieved accuracy={accuracy:.4f}\")\n",
    "    return model, accuracy"
   ]
  },
  {
   "cell_type": "code",
   "execution_count": null,
   "id": "7efcbbc3",
   "metadata": {},
   "outputs": [],
   "source": [
    "\n",
    "# Train models with different hyperparameter configurations\n",
    "print(\"Training Model 1...\")\n",
    "model_1, acc_1 = train_model(n_estimators=20, max_depth=5)"
   ]
  },
  {
   "cell_type": "code",
   "execution_count": null,
   "id": "1a75d030",
   "metadata": {},
   "outputs": [],
   "source": [
    "print(\"\\nTraining Model 2...\")\n",
    "model_2, acc_2 = train_model(n_estimators=100, max_depth=10)\n"
   ]
  },
  {
   "cell_type": "markdown",
   "id": "d711f761",
   "metadata": {},
   "source": [
    "Now adding MLFlow"
   ]
  },
  {
   "cell_type": "code",
   "execution_count": 78,
   "id": "aa7db54f",
   "metadata": {},
   "outputs": [],
   "source": [
    "import mlflow\n",
    "import mlflow.sklearn\n",
    "from sklearn.ensemble import RandomForestClassifier\n",
    "from sklearn.model_selection import train_test_split\n",
    "from sklearn.metrics import accuracy_score\n",
    "from sklearn.datasets import load_digits"
   ]
  },
  {
   "cell_type": "code",
   "execution_count": 79,
   "id": "03546a6f",
   "metadata": {},
   "outputs": [],
   "source": [
    "data = load_digits()\n",
    "X_train, X_test, y_train, y_test = train_test_split(data.data, data.target, test_size=0.2, random_state=42)"
   ]
  },
  {
   "cell_type": "code",
   "execution_count": null,
   "id": "a53ceb41",
   "metadata": {},
   "outputs": [],
   "source": [
    "# Set MLflow experiment name. This will get created if it doesn't exist\n",
    "experiment_name = \"RandomForestExperiment\"\n",
    "mlflow.set_experiment(experiment_name)"
   ]
  },
  {
   "cell_type": "code",
   "execution_count": 81,
   "id": "9fa54adf",
   "metadata": {},
   "outputs": [],
   "source": [
    "# Define a function to train a model, log parameters and metrics to MLflow\n",
    "def train_and_log_model(n_estimators, max_depth):\n",
    "    with mlflow.start_run(): # <--\n",
    "        # Train a RandomForestClassifier\n",
    "        model = RandomForestClassifier(n_estimators=n_estimators, max_depth=max_depth, random_state=42)\n",
    "        model.fit(X_train, y_train)\n",
    "\n",
    "        # Make predictions\n",
    "        predictions = model.predict(X_test)\n",
    "        accuracy = accuracy_score(y_test, predictions)\n",
    "\n",
    "        # Log parameters, metrics, and the model itself\n",
    "        mlflow.log_param(\"n_estimators\", n_estimators)\n",
    "        mlflow.log_param(\"max_depth\", max_depth)\n",
    "        mlflow.log_metric(\"accuracy\", accuracy)\n",
    "        mlflow.sklearn.log_model(model, \"RandomForestClassifier_V0\")\n",
    "\n",
    "        print(f\"Logged RandomForest model with n_estimators={n_estimators}, max_depth={max_depth}, accuracy={accuracy:.4f}\")\n"
   ]
  },
  {
   "cell_type": "code",
   "execution_count": null,
   "id": "af458bd7",
   "metadata": {},
   "outputs": [],
   "source": [
    "# Train and log Model 1\n",
    "print(\"Training and Logging Model 1...\")\n",
    "train_and_log_model(n_estimators=20, max_depth=5)"
   ]
  },
  {
   "cell_type": "code",
   "execution_count": null,
   "id": "14afcc4b",
   "metadata": {},
   "outputs": [],
   "source": [
    "# Train and log Model 2\n",
    "print(\"\\nTraining and Logging Model 2...\")\n",
    "train_and_log_model(n_estimators=100, max_depth=10)"
   ]
  },
  {
   "cell_type": "code",
   "execution_count": null,
   "id": "02053bd9",
   "metadata": {},
   "outputs": [],
   "source": [
    "# Instructions to visualize results\n",
    "print(\"\\nTo view the results, run the following command in your terminal:\")\n",
    "print(\"mlflow ui\")\n",
    "print(\"Then navigate to http://127.0.0.1:5000 to explore the experiment results.\")"
   ]
  },
  {
   "cell_type": "markdown",
   "id": "e29285db",
   "metadata": {},
   "source": [
    "# Register the model"
   ]
  },
  {
   "cell_type": "code",
   "execution_count": null,
   "id": "812607cb",
   "metadata": {},
   "outputs": [],
   "source": [
    "model_name=\"RandomForestClassifier_V0\"\n",
    "run_id=\"3917a9e3038b4931b2eb6ca162250a40\"\n",
    "model_uri = f\"runs:/{run_id}/{model_name}\"\n",
    "response = mlflow.register_model(model_uri, model_name)"
   ]
  },
  {
   "cell_type": "markdown",
   "id": "4745d5e5",
   "metadata": {},
   "source": [
    "# Load the model"
   ]
  },
  {
   "cell_type": "code",
   "execution_count": 89,
   "id": "f9ef0a6c",
   "metadata": {},
   "outputs": [],
   "source": [
    "model_ver = 1\n",
    "model_uri = f\"models:/RandomForestClassifier_V0/1\"\n",
    "\n",
    "loaded_model = mlflow.sklearn.load_model(model_uri)"
   ]
  },
  {
   "cell_type": "markdown",
   "id": "036f8b61",
   "metadata": {},
   "source": [
    "now loaded_model is imported from the MLFlow registry"
   ]
  },
  {
   "cell_type": "code",
   "execution_count": null,
   "id": "33eff19a",
   "metadata": {},
   "outputs": [],
   "source": [
    "loaded_model.predict(X_test)"
   ]
  },
  {
   "cell_type": "markdown",
   "id": "4f6dafa7",
   "metadata": {},
   "source": [
    "# Connecting a remote tracking URI"
   ]
  },
  {
   "cell_type": "code",
   "execution_count": null,
   "id": "4b19985d",
   "metadata": {},
   "outputs": [],
   "source": [
    "!pip install dagshub"
   ]
  },
  {
   "cell_type": "code",
   "execution_count": null,
   "id": "f5131fc4",
   "metadata": {},
   "outputs": [],
   "source": [
    "# we can get this code from dagshub\n",
    "import dagshub\n",
    "dagshub.init(repo_owner='KHEfreiIntervenant', repo_name='testingDVC', mlflow=True)"
   ]
  },
  {
   "cell_type": "code",
   "execution_count": null,
   "id": "167e3db0",
   "metadata": {},
   "outputs": [],
   "source": [
    "import mlflow\n",
    "with mlflow.start_run():\n",
    "    mlflow.log_param('parameter name', 'value')\n",
    "    mlflow.log_metric('metric name', 1)"
   ]
  }
 ],
 "metadata": {
  "kernelspec": {
   "display_name": "Python 3 (ipykernel)",
   "language": "python",
   "name": "python3"
  },
  "language_info": {
   "codemirror_mode": {
    "name": "ipython",
    "version": 3
   },
   "file_extension": ".py",
   "mimetype": "text/x-python",
   "name": "python",
   "nbconvert_exporter": "python",
   "pygments_lexer": "ipython3",
   "version": "3.9.7"
  }
 },
 "nbformat": 4,
 "nbformat_minor": 5
}
